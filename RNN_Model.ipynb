{
 "cells": [
  {
   "cell_type": "code",
   "execution_count": 3,
   "id": "cf42985a",
   "metadata": {},
   "outputs": [
    {
     "name": "stdout",
     "output_type": "stream",
     "text": [
      "1/1 [==============================] - 0s 127ms/step\n",
      "Predicted 4th word: early\n"
     ]
    }
   ],
   "source": [
    "import numpy as np\n",
    "from tensorflow.keras import layers, models\n",
    "from tensorflow.keras.preprocessing.text import Tokenizer\n",
    "from tensorflow.keras.preprocessing.sequence import pad_sequences\n",
    "\n",
    "sentence = \"the sun rises early\"\n",
    "\n",
    "tokenizer = Tokenizer()\n",
    "tokenizer.fit_on_texts([sentence])\n",
    "seq = tokenizer.texts_to_sequences([sentence])[0]\n",
    "\n",
    "input_seq = [seq[:3]]\n",
    "target_word = [seq[3]]\n",
    "\n",
    "X = np.array(input_seq)\n",
    "y = np.array(target_word)\n",
    "\n",
    "X_padded = pad_sequences(X, maxlen=3)\n",
    "\n",
    "inputs = layers.Input(shape=(3,))\n",
    "embedding = layers.Embedding(input_dim=len(tokenizer.word_index)+1, output_dim=12)(inputs)\n",
    "rnn_output = layers.SimpleRNN(16)(embedding)\n",
    "outputs = layers.Dense(len(tokenizer.word_index)+1, activation='softmax')(rnn_output)\n",
    "\n",
    "model = models.Model(inputs, outputs)\n",
    "model.compile(optimizer='adam', loss='sparse_categorical_crossentropy')\n",
    "\n",
    "model.fit(X_padded, y, epochs=200, verbose=0)\n",
    "\n",
    "prediction = model.predict(X_padded)\n",
    "predicted_index = np.argmax(prediction)\n",
    "predicted_word = tokenizer.index_word[predicted_index]\n",
    "\n",
    "print(\"Predicted 4th word:\", predicted_word)\n"
   ]
  },
  {
   "cell_type": "code",
   "execution_count": null,
   "id": "ae4c0716",
   "metadata": {},
   "outputs": [],
   "source": []
  }
 ],
 "metadata": {
  "kernelspec": {
   "display_name": "Python 3 (ipykernel)",
   "language": "python",
   "name": "python3"
  },
  "language_info": {
   "codemirror_mode": {
    "name": "ipython",
    "version": 3
   },
   "file_extension": ".py",
   "mimetype": "text/x-python",
   "name": "python",
   "nbconvert_exporter": "python",
   "pygments_lexer": "ipython3",
   "version": "3.9.13"
  }
 },
 "nbformat": 4,
 "nbformat_minor": 5
}
